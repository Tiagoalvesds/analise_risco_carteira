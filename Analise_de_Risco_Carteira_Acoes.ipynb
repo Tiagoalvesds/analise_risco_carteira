{
  "cells": [
    {
      "cell_type": "markdown",
      "metadata": {
        "id": "view-in-github",
        "colab_type": "text"
      },
      "source": [
        "<a href=\"https://colab.research.google.com/github/Tiagoalvesds/curry_company/blob/main/Analise_de_Risco_Carteira_Acoes.ipynb\" target=\"_parent\"><img src=\"https://colab.research.google.com/assets/colab-badge.svg\" alt=\"Open In Colab\"/></a>"
      ]
    },
    {
      "cell_type": "markdown",
      "metadata": {
        "id": "DiACze_0tA5-"
      },
      "source": [
        "# **Bibliotecas**"
      ]
    },
    {
      "cell_type": "code",
      "execution_count": null,
      "metadata": {
        "id": "kuGLcVL7tDB4"
      },
      "outputs": [],
      "source": [
        "import pandas as pd\n",
        "import numpy as np\n",
        "import seaborn\n",
        "import seaborn as sns\n",
        "import yfinance\n",
        "import yfinance as yf\n",
        "from datetime import datetime"
      ]
    },
    {
      "cell_type": "markdown",
      "metadata": {
        "id": "sHoJMbO_uPcZ"
      },
      "source": [
        "# **Construção da Carteira**\n",
        "\n",
        "Importando dados da base de dado do  Yahoo finance"
      ]
    },
    {
      "cell_type": "code",
      "execution_count": null,
      "metadata": {
        "id": "6wCU8t85ftrY",
        "tags": []
      },
      "outputs": [],
      "source": [
        "ativo_1 = input('Insira o ativo com letra maiúscula seguido de .SA (Ex: PETR3.SA)......:')\n",
        "ativo_2 = input('Insira o ativo com letra maiúscula seguido de .SA (Ex: VALE3.SA)......:')\n",
        "ativo_3 = input('Insira o ativo com letra maiúscula seguido de .SA (Ex: BBDC4.SA)......:')\n",
        "ativo_4 = input('Insira o ativo com letra maiúscula seguido de .SA (Ex: WEGE3.SA)......:')\n",
        "ativo_5 = input('Insira o ativo com letra maiúscula seguido de .SA (Ex: ELET3.SA)......:')\n",
        "\n",
        "ativos = [ativo_1, ativo_2, ativo_3, ativo_4, ativo_5]\n",
        "\n",
        "pesos = np.array([0.2,0.2,0.2,0.2,0.2])\n",
        "\n",
        "print(ativos)"
      ]
    },
    {
      "cell_type": "markdown",
      "metadata": {
        "id": "yiFNOBQ_tP2g"
      },
      "source": [
        "Parâmetros"
      ]
    },
    {
      "cell_type": "code",
      "execution_count": null,
      "metadata": {
        "collapsed": true,
        "id": "j4erhiQNuO53",
        "jupyter": {
          "outputs_hidden": true
        },
        "tags": []
      },
      "outputs": [],
      "source": [
        "data_inicio = input('Insira uma data inicial. (Ex. 2019-01-01) ......:')\n",
        "data_fim = input('Insira uma data fim. (Ex. 2023-07-13)......:')\n",
        "\n",
        "carteira = yf.download (ativos, start=data_inicio, end=data_fim)['Adj Close']\n",
        "carteira"
      ]
    },
    {
      "cell_type": "markdown",
      "metadata": {
        "id": "USGrPtkE3mbM"
      },
      "source": [
        "# **Retornos**"
      ]
    },
    {
      "cell_type": "code",
      "execution_count": null,
      "metadata": {
        "collapsed": true,
        "id": "s3XFFmQtuMvk",
        "jupyter": {
          "outputs_hidden": true
        },
        "tags": []
      },
      "outputs": [],
      "source": [
        "retornos = carteira.pct_change()\n",
        "retornos"
      ]
    },
    {
      "cell_type": "code",
      "execution_count": null,
      "metadata": {
        "collapsed": true,
        "id": "ru2RZoemuMtD",
        "jupyter": {
          "outputs_hidden": true
        },
        "tags": []
      },
      "outputs": [],
      "source": [
        "retornos.dropna(inplace=True)\n",
        "retornos.head()"
      ]
    },
    {
      "cell_type": "markdown",
      "metadata": {
        "id": "2lcMXX95Ak2-",
        "tags": []
      },
      "source": [
        "# Retorno do Portfólio\n",
        "### Somatório do Peso x Retorno\n"
      ]
    },
    {
      "cell_type": "code",
      "execution_count": null,
      "metadata": {
        "collapsed": true,
        "id": "T0pQqpsMuMqJ",
        "jupyter": {
          "outputs_hidden": true
        },
        "tags": []
      },
      "outputs": [],
      "source": [
        "retorno_carteira = (retornos*pesos).sum(axis=1)\n",
        "retorno_portfolio = pd.DataFrame()\n",
        "retorno_portfolio ['Retornos'] = retorno_carteira\n",
        "retorno_portfolio"
      ]
    },
    {
      "cell_type": "markdown",
      "metadata": {
        "tags": [],
        "id": "PfKqwEhPYsnf"
      },
      "source": [
        "# Estatística descritiva.\n",
        "\n",
        "Um quartil é qualquer um dos três valores que divide o conjunto ordenado de dados em quatro partes iguais, e assim cada parte representa 1/4 da amostra.\n",
        "\n",
        "Assim, no caso de uma amostra ordenada:\n",
        "\n",
        "* primeiro quartil (designado por Q1/4) = quartil inferior = é o valor aos 25% da amostra ordenada = 25º percentil.\n",
        "\n",
        "* segundo quartil (designado por Q2/4) = mediana = é o valor até ao qual se encontra 50% da amostra ordenada = 50º percentil, ou  5º decil.\n",
        "\n",
        "* terceiro quartil (designado por Q3/4) = quartil superior = valor a partir do qual se encontram 25% dos valores mais elevados = valor aos 75% da amostra ordenada = 75º percentil à diferença entre os quartis superior e inferior chama-se amplitude inter-quartil.\n",
        "\n"
      ]
    },
    {
      "cell_type": "code",
      "execution_count": null,
      "metadata": {
        "id": "btuaiKUKuMnU",
        "tags": []
      },
      "outputs": [],
      "source": [
        "#Neste código iremos explorar os retornos da carteira através do Quartil.\n",
        "retorno_portfolio.describe()\n"
      ]
    },
    {
      "cell_type": "code",
      "execution_count": null,
      "metadata": {
        "id": "OawNsEuouMgi"
      },
      "outputs": [],
      "source": [
        "retorno_portfolio.plot.hist(bins=120)"
      ]
    },
    {
      "cell_type": "markdown",
      "metadata": {
        "id": "w3ieoioUKz8F"
      },
      "source": [
        "# Teoria moderna do portfólio - Markowtiz\n",
        "A teoria do portfólio estabelece que decisões relacionadas à seleção de investimentos devam ser tomadas com base na relação risco-retorno. Para auxiliar neste processo, modelos de otimização de portfólio têm sido desenvolvidos. De modo a serem efetivos, tais modelos devem ser capazes de quantificar os níveis de risco e retorno dos investimentos."
      ]
    },
    {
      "cell_type": "code",
      "execution_count": null,
      "metadata": {
        "id": "hHeiZreNuMdY"
      },
      "outputs": [],
      "source": [
        "corr = retornos.corr()\n",
        "sns.heatmap(corr, annot=True)\n"
      ]
    },
    {
      "cell_type": "markdown",
      "metadata": {
        "id": "2i2qASY8M3xH",
        "tags": []
      },
      "source": [
        "# Matriz de Covariância"
      ]
    },
    {
      "cell_type": "code",
      "execution_count": null,
      "metadata": {
        "id": "wJM8MktTuMaW",
        "tags": []
      },
      "outputs": [],
      "source": [
        "cov = retornos.cov()\n",
        "cov"
      ]
    },
    {
      "cell_type": "markdown",
      "metadata": {
        "id": "BdDob6F3NGmc",
        "tags": []
      },
      "source": [
        "# Volatilidade da Carteira"
      ]
    },
    {
      "cell_type": "code",
      "execution_count": null,
      "metadata": {
        "id": "SjWGg0iDNKep"
      },
      "outputs": [],
      "source": [
        "vol_carteira = np.sqrt(np.dot(pesos.T, np.dot(cov,pesos)))\n",
        "vol_carteira"
      ]
    },
    {
      "cell_type": "code",
      "execution_count": null,
      "metadata": {
        "id": "eL-YbaGENLWP"
      },
      "outputs": [],
      "source": [
        "vol_ano = vol_carteira*np.sqrt(252)\n",
        "vol_ano"
      ]
    },
    {
      "cell_type": "markdown",
      "metadata": {
        "id": "XbQn-853ORZ7"
      },
      "source": [
        "# Beta da Carteira\n",
        "(mede a sensibilidade do retorno da carteira em relação a volatilidade do mercado)"
      ]
    },
    {
      "cell_type": "code",
      "execution_count": null,
      "metadata": {
        "id": "EV_HNazMNLTm"
      },
      "outputs": [],
      "source": [
        "ibov = yf.download ('^BVSP',start=data_inicio, end=data_fim) ['Adj Close']\n",
        "ibov.describe()"
      ]
    },
    {
      "cell_type": "markdown",
      "metadata": {
        "id": "S6bfsmMUYsno"
      },
      "source": [
        "Histograma do IBOVESPA"
      ]
    },
    {
      "cell_type": "code",
      "execution_count": null,
      "metadata": {
        "id": "IC69qNkUNLQt"
      },
      "outputs": [],
      "source": [
        "ibov.plot.hist(bins=60)"
      ]
    },
    {
      "cell_type": "code",
      "execution_count": null,
      "metadata": {
        "id": "0hjLw7IBNLOP"
      },
      "outputs": [],
      "source": [
        "ibov_retornos = ibov.pct_change()\n",
        "ibov_retornos.dropna(axis = 0, inplace = True)\n",
        "ibov_retornos"
      ]
    },
    {
      "cell_type": "markdown",
      "metadata": {
        "id": "AVBTlrbqTBES"
      },
      "source": [
        "# Beta da Carteira"
      ]
    },
    {
      "cell_type": "code",
      "execution_count": null,
      "metadata": {
        "id": "W3nNLdgfTAuh"
      },
      "outputs": [],
      "source": [
        "beta_carteira = pd.merge(retorno_portfolio, ibov_retornos, how=\"inner\", left_index=True, right_index= True)\n",
        "beta_carteira.head()"
      ]
    },
    {
      "cell_type": "markdown",
      "metadata": {
        "id": "ZqoY8uqxdPTw"
      },
      "source": [
        "# Calculando a regressão com Statsmodels"
      ]
    },
    {
      "cell_type": "code",
      "execution_count": null,
      "metadata": {
        "id": "elpO-QaCdOmJ"
      },
      "outputs": [],
      "source": [
        "import statsmodels\n",
        "import statsmodels.api as sm"
      ]
    },
    {
      "cell_type": "code",
      "execution_count": null,
      "metadata": {
        "id": "63DIY3HdNLIU"
      },
      "outputs": [],
      "source": [
        "Y = beta_carteira['Retornos']\n",
        "X = beta_carteira['Adj Close']\n",
        "\n",
        "X = sm.add_constant(X)\n",
        "modelo = sm.OLS(Y,X)\n",
        "resultado = modelo.fit()"
      ]
    },
    {
      "cell_type": "markdown",
      "metadata": {
        "id": "-kneoFobeNbo"
      },
      "source": [
        "# **Calculando o Alfa da carteira**"
      ]
    },
    {
      "cell_type": "code",
      "execution_count": null,
      "metadata": {
        "id": "JGDDzHCPNK-_"
      },
      "outputs": [],
      "source": [
        "resultado.params[0]"
      ]
    },
    {
      "cell_type": "markdown",
      "metadata": {
        "id": "rL-WcLFdeTJV"
      },
      "source": [
        "# **Calculando o Beta da carteira**"
      ]
    },
    {
      "cell_type": "code",
      "execution_count": null,
      "metadata": {
        "id": "9tRPnSpQeWr7"
      },
      "outputs": [],
      "source": [
        "resultado.params[1]"
      ]
    },
    {
      "cell_type": "markdown",
      "metadata": {
        "id": "aTeQKo9Xhshe"
      },
      "source": [
        "# **Value at Risk - VaR Histórico**"
      ]
    },
    {
      "cell_type": "code",
      "execution_count": null,
      "metadata": {
        "id": "L9t1rfGsffBD"
      },
      "outputs": [],
      "source": [
        "retorno_carteira.plot.hist(bins=60)"
      ]
    },
    {
      "cell_type": "markdown",
      "metadata": {
        "id": "h3vcqegm32zl"
      },
      "source": [
        "# VaR Histórico\n",
        "### O que exceder o VaR é a perda estimada no pior cenário"
      ]
    },
    {
      "cell_type": "code",
      "execution_count": null,
      "metadata": {
        "id": "a379sUlEfeuQ"
      },
      "outputs": [],
      "source": [
        "var_95 = np.nanpercentile(retorno_portfolio,5)\n",
        "var_98 = np.nanpercentile(retorno_portfolio,2)\n",
        "var_99 = np.nanpercentile(retorno_portfolio,1)\n",
        "\n",
        "print(var_95, var_98, var_99)\n"
      ]
    }
  ],
  "metadata": {
    "colab": {
      "collapsed_sections": [
        "DiACze_0tA5-",
        "sHoJMbO_uPcZ",
        "USGrPtkE3mbM",
        "2lcMXX95Ak2-",
        "w3ieoioUKz8F",
        "2i2qASY8M3xH",
        "BdDob6F3NGmc",
        "XbQn-853ORZ7",
        "AVBTlrbqTBES",
        "ZqoY8uqxdPTw",
        "-kneoFobeNbo",
        "rL-WcLFdeTJV",
        "aTeQKo9Xhshe"
      ],
      "provenance": [],
      "include_colab_link": true
    },
    "kernelspec": {
      "display_name": "Python 3 (ipykernel)",
      "language": "python",
      "name": "python3"
    },
    "language_info": {
      "codemirror_mode": {
        "name": "ipython",
        "version": 3
      },
      "file_extension": ".py",
      "mimetype": "text/x-python",
      "name": "python",
      "nbconvert_exporter": "python",
      "pygments_lexer": "ipython3",
      "version": "3.8.15"
    }
  },
  "nbformat": 4,
  "nbformat_minor": 0
}